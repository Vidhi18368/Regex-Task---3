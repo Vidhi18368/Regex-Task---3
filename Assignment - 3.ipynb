{
 "cells": [
  {
   "cell_type": "markdown",
   "metadata": {},
   "source": [
    "# Task 3\n",
    "\n",
    "Name: Vidhi Parekh\n",
    "\n",
    "Registration ID: SIRSS1224"
   ]
  },
  {
   "cell_type": "markdown",
   "metadata": {},
   "source": [
    "# Question 1\n",
    "\n",
    "Write a function to return nth term of Fibonacci sequence."
   ]
  },
  {
   "cell_type": "code",
   "execution_count": 2,
   "metadata": {},
   "outputs": [
    {
     "name": "stdout",
     "output_type": "stream",
     "text": [
      "Enter a Number : 11\n",
      "0 1 1 2 3 5 8 13 21 34 55 "
     ]
    }
   ],
   "source": [
    "def fibonacci(inp) :\n",
    "    if inp <= 1 :\n",
    "        return inp\n",
    "    else : \n",
    "        return (fibonacci(inp-1) + fibonacci(inp-2))\n",
    "    \n",
    "n = int(input(\"Enter a Number : \"))\n",
    "\n",
    "if n < 0 :\n",
    "    print(\"Please Enter Positive Number \")\n",
    "else :\n",
    "    for i in range(n) :\n",
    "        print(fibonacci(i), end = \" \")"
   ]
  },
  {
   "cell_type": "markdown",
   "metadata": {},
   "source": [
    "# Question 2\n",
    "\n",
    "Write a function to find out GCD of two numbers using EUCLID'S algorithm."
   ]
  },
  {
   "cell_type": "code",
   "execution_count": 4,
   "metadata": {},
   "outputs": [
    {
     "name": "stdout",
     "output_type": "stream",
     "text": [
      "Enter first Number : 20\n",
      "Enter second Number : 10\n",
      "GCD of (20,10) =  10\n"
     ]
    }
   ],
   "source": [
    "def gcd(n1, n2) :\n",
    "    if n2 == 0 :\n",
    "        return n1\n",
    "    else :\n",
    "        return gcd(n2, n1 % n2)\n",
    "        \n",
    "inp1 = int(input(\"Enter first Number : \"))\n",
    "inp2 = int(input(\"Enter second Number : \"))\n",
    "\n",
    "print(f\"GCD of ({inp1},{inp2}) = \", gcd(inp1, inp2))"
   ]
  },
  {
   "cell_type": "markdown",
   "metadata": {},
   "source": [
    "# Question 3\n",
    "\n",
    "Write a function to find LCM of two number in most optimizers way."
   ]
  },
  {
   "cell_type": "code",
   "execution_count": 6,
   "metadata": {},
   "outputs": [
    {
     "name": "stdout",
     "output_type": "stream",
     "text": [
      "Enter first Number : 20\n",
      "Enter second Number : 10\n",
      "LCM of (20,10) =  20.0\n"
     ]
    }
   ],
   "source": [
    "def gcd(n1, n2) :\n",
    "    if n2 == 0 :\n",
    "        return n1\n",
    "    else :\n",
    "        return gcd(n2, n1 % n2)\n",
    "    \n",
    "def lcm(n1, n2) :\n",
    "    return (n1 / gcd(n1,n2)) * n2\n",
    "\n",
    "inp1 = int(input(\"Enter first Number : \"))\n",
    "inp2 = int(input(\"Enter second Number : \"))\n",
    "\n",
    "print(f\"LCM of ({inp1},{inp2}) = \", lcm(inp1, inp2))"
   ]
  }
 ],
 "metadata": {
  "kernelspec": {
   "display_name": "Python 3",
   "language": "python",
   "name": "python3"
  },
  "language_info": {
   "codemirror_mode": {
    "name": "ipython",
    "version": 3
   },
   "file_extension": ".py",
   "mimetype": "text/x-python",
   "name": "python",
   "nbconvert_exporter": "python",
   "pygments_lexer": "ipython3",
   "version": "3.8.5"
  }
 },
 "nbformat": 4,
 "nbformat_minor": 4
}
